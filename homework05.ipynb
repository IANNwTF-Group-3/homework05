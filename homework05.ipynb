{
 "cells": [
  {
   "cell_type": "code",
   "execution_count": 7,
   "metadata": {},
   "outputs": [
    {
     "name": "stdout",
     "output_type": "stream",
     "text": [
      "The tensorboard extension is already loaded. To reload it, use:\n",
      "  %reload_ext tensorboard\n"
     ]
    }
   ],
   "source": [
    "# disable compiler warnings\n",
    "import os\n",
    "os.environ['TF_CPP_MIN_LOG_LEVEL'] = '3' \n",
    "\n",
    "# imports \n",
    "import tensorflow as tf\n",
    "import tensorflow_datasets as tfds\n",
    "from tensorflow.python.ops.numpy_ops import np_config\n",
    "np_config.enable_numpy_behavior()\n",
    "import numpy as np\n",
    "import matplotlib.pyplot as plt\n",
    "from tensorflow.python.keras.layers import Dense\n",
    "from typing import List\n",
    "import datetime\n",
    "\n",
    "%load_ext tensorboard"
   ]
  },
  {
   "cell_type": "code",
   "execution_count": 8,
   "metadata": {},
   "outputs": [
    {
     "name": "stdout",
     "output_type": "stream",
     "text": [
      "Downloading and preparing dataset Unknown size (download: Unknown size, generated: Unknown size, total: Unknown size) to C:\\Users\\Can-Leon\\tensorflow_datasets\\cifar10\\3.0.2...\n"
     ]
    },
    {
     "data": {
      "text/plain": "Dl Completed...: 0 url [00:00, ? url/s]",
      "application/vnd.jupyter.widget-view+json": {
       "version_major": 2,
       "version_minor": 0,
       "model_id": "071700a0b2074d01800056923b93b18b"
      }
     },
     "metadata": {},
     "output_type": "display_data"
    },
    {
     "data": {
      "text/plain": "Dl Size...: 0 MiB [00:00, ? MiB/s]",
      "application/vnd.jupyter.widget-view+json": {
       "version_major": 2,
       "version_minor": 0,
       "model_id": "c647e0a8f33047afa6ea1ba8508ec54b"
      }
     },
     "metadata": {},
     "output_type": "display_data"
    },
    {
     "data": {
      "text/plain": "Extraction completed...: 0 file [00:00, ? file/s]",
      "application/vnd.jupyter.widget-view+json": {
       "version_major": 2,
       "version_minor": 0,
       "model_id": "04a14dc94d7d43d7904080d07546ef02"
      }
     },
     "metadata": {},
     "output_type": "display_data"
    },
    {
     "data": {
      "text/plain": "Generating splits...:   0%|          | 0/2 [00:00<?, ? splits/s]",
      "application/vnd.jupyter.widget-view+json": {
       "version_major": 2,
       "version_minor": 0,
       "model_id": "1b0c8c0155b94064a3f6e2aab57e872b"
      }
     },
     "metadata": {},
     "output_type": "display_data"
    },
    {
     "data": {
      "text/plain": "Generating train examples...: 0 examples [00:00, ? examples/s]",
      "application/vnd.jupyter.widget-view+json": {
       "version_major": 2,
       "version_minor": 0,
       "model_id": "e6683edd0e074e73b8591e0edf5c513e"
      }
     },
     "metadata": {},
     "output_type": "display_data"
    },
    {
     "data": {
      "text/plain": "Shuffling C:\\Users\\Can-Leon\\tensorflow_datasets\\cifar10\\3.0.2.incompleteN9UGUB\\cifar10-train.tfrecord*...:   0…",
      "application/vnd.jupyter.widget-view+json": {
       "version_major": 2,
       "version_minor": 0,
       "model_id": "13732ee58c5142a292dd19788ac3e0cd"
      }
     },
     "metadata": {},
     "output_type": "display_data"
    },
    {
     "data": {
      "text/plain": "Generating test examples...: 0 examples [00:00, ? examples/s]",
      "application/vnd.jupyter.widget-view+json": {
       "version_major": 2,
       "version_minor": 0,
       "model_id": "4117e9e096a94134a8710362414990b8"
      }
     },
     "metadata": {},
     "output_type": "display_data"
    },
    {
     "data": {
      "text/plain": "Shuffling C:\\Users\\Can-Leon\\tensorflow_datasets\\cifar10\\3.0.2.incompleteN9UGUB\\cifar10-test.tfrecord*...:   0%…",
      "application/vnd.jupyter.widget-view+json": {
       "version_major": 2,
       "version_minor": 0,
       "model_id": "9ec26bef124f4c9cbf457639b86b45b5"
      }
     },
     "metadata": {},
     "output_type": "display_data"
    },
    {
     "name": "stdout",
     "output_type": "stream",
     "text": [
      "Dataset cifar10 downloaded and prepared to C:\\Users\\Can-Leon\\tensorflow_datasets\\cifar10\\3.0.2. Subsequent calls will reuse this data.\n"
     ]
    }
   ],
   "source": [
    "import tensorflow_datasets as tfds\n",
    "import tensorflow as tf\n",
    "import numpy as np\n",
    "(train_ds_global, test_ds_global), ds_info = tfds.load(\"cifar10\" , split =[\"train\", \"test\"] , as_supervised=True , with_info=True)\n",
    "\n",
    "def prepare_cifar10_data(cifar10):\n",
    "  #convert data from uint8 to float32\n",
    "  cifar10 = cifar10.map(lambda img, target: (tf.cast(img, tf.float32), target))\n",
    "  #sloppy input normalization, just bringing image values from range [0, 255] to [-1, 1]\n",
    "  cifar10 = cifar10.map(lambda img, target: ((img/128.)-1., target))\n",
    "  #create one-hot targets\n",
    "  cifar10 = cifar10.map(lambda img, target: (img, tf.one_hot(target, depth=10)))\n",
    "  #cache this progress in memory, as there is no need to redo it; it is deterministic after all\n",
    "  cifar10 = cifar10.cache()\n",
    "  #shuffle, batch, prefetch\n",
    "  cifar10 = cifar10.shuffle(1000)\n",
    "  cifar10 = cifar10.batch(32)\n",
    "  cifar10 = cifar10.prefetch(20)\n",
    "  #return preprocessed dataset\n",
    "  return cifar10"
   ]
  },
  {
   "cell_type": "code",
   "execution_count": 9,
   "metadata": {},
   "outputs": [],
   "source": [
    "class BasicConv(tf.keras.Model):\n",
    "    def __init__(self):\n",
    "        super(BasicConv, self).__init__()\n",
    "\n",
    "        self.loss_function = tf.keras.losses.CategoricalCrossentropy()\n",
    "        self.metrics_list = [tf.keras.metrics.Accuracy(name=\"Accuracy\"),\n",
    "                             tf.keras.metrics.Mean(name=\"loss\")]\n",
    "\n",
    "        self.optimizer = tf.keras.optimizers.Adam()\n",
    "\n",
    "        self.convlayer1 = tf.keras.layers.Conv2D(filters=24, kernel_size=3, padding='same', activation='relu')\n",
    "        self.convlayer2 = tf.keras.layers.Conv2D(filters=24, kernel_size=3, padding='same', activation='relu')\n",
    "        self.pooling = tf.keras.layers.MaxPooling2D(pool_size=2, strides=2)\n",
    "\n",
    "        self.convlayer3 = tf.keras.layers.Conv2D(filters=48, kernel_size=3, padding='same', activation='relu')\n",
    "        self.convlayer4 = tf.keras.layers.Conv2D(filters=48, kernel_size=3, padding='same', activation='relu')\n",
    "        self.global_pool = tf.keras.layers.GlobalAvgPool2D()\n",
    "\n",
    "        self.out = tf.keras.layers.Dense(10, activation='softmax')\n",
    "\n",
    "    @tf.function\n",
    "    def call(self, x):\n",
    "        x = self.convlayer1(x)\n",
    "        x = self.convlayer2(x)\n",
    "        x = self.pooling(x)\n",
    "        x = self.convlayer3(x)\n",
    "        x = self.convlayer4(x)\n",
    "        x = self.global_pool(x)\n",
    "        x = self.out(x)\n",
    "        return x\n",
    "\n",
    "    # 3. metrics property\n",
    "    @property\n",
    "    def metrics(self):\n",
    "        return self.metrics_list\n",
    "        # return a list with all metrics in the model\n",
    "\n",
    "\n",
    "\n",
    "    # 4. reset all metrics objects\n",
    "    def reset_metrics(self):\n",
    "        for metric in self.metrics:\n",
    "            metric.reset_states()\n",
    "\n",
    "\n",
    "\n",
    "    # train_step method\n",
    "    @tf.function\n",
    "    def train_step(self, data):\n",
    "        img, label = data\n",
    "        \n",
    "        # compute output and loss, train the variables\n",
    "        with tf.GradientTape() as tape:\n",
    "            output = self(img, training=True)\n",
    "            loss = self.loss_function(label, output)\n",
    "            \n",
    "        # update trainable variables\n",
    "        gradients = tape.gradient(loss, self.trainable_variables)\n",
    "        self.optimizer.apply_gradients(zip(gradients, self.trainable_variables))\n",
    "\n",
    "        # update metrics\n",
    "        self.metrics_list[0].update_state(tf.argmax(output, axis=1), tf.argmax(label, axis=1))\n",
    "        self.metrics_list[1].update_state(loss)\n",
    "        \n",
    "        # return a dict with metric information\n",
    "        return {m.name : m.result() for m in self.metrics_list}\n",
    "\n",
    "\n",
    "\n",
    "    # test_step method\n",
    "    @tf.function\n",
    "    def test_step(self, data):\n",
    "        img, label = data\n",
    "\n",
    "        # compute output and loss, without training\n",
    "        output = self(img, training=False)\n",
    "        loss = self.loss_function(label, output)\n",
    "\n",
    "        # update metrics\n",
    "        self.metrics_list[0].update_state(tf.argmax(output, axis=1), tf.argmax(label, axis=1))\n",
    "        self.metrics_list[1].update_state(loss)\n",
    "\n",
    "        # return a dict with metric information \n",
    "        return {m.name : m.result() for m in self.metrics_list}"
   ]
  },
  {
   "cell_type": "code",
   "execution_count": 10,
   "metadata": {},
   "outputs": [],
   "source": [
    "\n",
    "def create_summary_writers(config_name):\n",
    "    \n",
    "    # Define where to save the logs\n",
    "    # along with this, you may want to save a config file with the same name so you know what the hyperparameters were used\n",
    "    # alternatively make a copy of the code that is used for later reference\n",
    "    \n",
    "    current_time = datetime.datetime.now().strftime(\"%Y%m%d-%H%M%S\")\n",
    "\n",
    "    train_log_path = f\"logs/{config_name}/{current_time}/train\"\n",
    "    val_log_path = f\"logs/{config_name}/{current_time}/val\"\n",
    "\n",
    "    # log writer for training metrics\n",
    "    train_summary_writer = tf.summary.create_file_writer(train_log_path)\n",
    "\n",
    "    # log writer for validation metrics\n",
    "    val_summary_writer = tf.summary.create_file_writer(val_log_path)\n",
    "    \n",
    "    return train_summary_writer, val_summary_writer\n",
    "\n",
    "train_summary_writer, val_summary_writer = create_summary_writers(config_name=\"RUN1\")"
   ]
  },
  {
   "cell_type": "code",
   "execution_count": 11,
   "metadata": {},
   "outputs": [],
   "source": [
    "# trains the model by iterating through the dataset and applying training_step method epochs time\n",
    "def training_loop(model, train_ds, epochs, train_summary_writer):\n",
    "    # iterate over epochs\n",
    "    for epoch in range(epochs):\n",
    "        print(f\"epoch: {epoch}\")\n",
    "\n",
    "        # train steps on all batches in the training data\n",
    "        for (img, label) in train_ds:\n",
    "            metrics = model.train_step((img, label))\n",
    "            \n",
    "            # keep data in summary with metrics\n",
    "            with train_summary_writer.as_default():\n",
    "                for metric in model.metrics_list:\n",
    "                    tf.summary.scalar(f\"{metric.name}\", metric.result(), step=epoch)\n",
    "        \n",
    "        # print current metric values and reset the metrics\n",
    "        print([f\"{key} : {value.numpy()}\" for (key, value ) in metrics.items()])\n",
    "        model.reset_metrics()\n",
    "\n",
    "\n",
    "# tests overall performance of model\n",
    "def test_loop(model, test_ds, val_summary_writer):\n",
    "    # test steps on every item in test dataset\n",
    "    for (img, label) in test_ds:\n",
    "        metrics = model.test_step((img, label))\n",
    "        \n",
    "        # keep data with metrics\n",
    "        with val_summary_writer.as_default():\n",
    "            for metric in model.metrics_list:\n",
    "                tf.summary.scalar(f\"{metric.name}\", metric.result(), step=1)\n",
    "    \n",
    "    #print current metric values and reset the metrics\n",
    "    print([f\"{key} : {value.numpy()}\" for (key, value ) in metrics.items()])\n",
    "    model.reset_metrics()"
   ]
  },
  {
   "cell_type": "code",
   "execution_count": 12,
   "metadata": {},
   "outputs": [
    {
     "name": "stdout",
     "output_type": "stream",
     "text": [
      "<PrefetchDataset element_spec=(TensorSpec(shape=(None, 32, 32, 3), dtype=tf.float32, name=None), TensorSpec(shape=(None, 10), dtype=tf.float32, name=None))>\n",
      "['Accuracy : 0.10019999742507935', 'loss : 2.3041656017303467']\n",
      "epoch: 0\n",
      "['Accuracy : 0.3616800010204315', 'loss : 1.7040834426879883']\n",
      "epoch: 1\n",
      "['Accuracy : 0.5161799788475037', 'loss : 1.3529080152511597']\n",
      "epoch: 2\n",
      "['Accuracy : 0.577019989490509', 'loss : 1.190583348274231']\n",
      "epoch: 3\n",
      "['Accuracy : 0.6071599721908569', 'loss : 1.1034165620803833']\n",
      "epoch: 4\n",
      "['Accuracy : 0.6338599920272827', 'loss : 1.0341838598251343']\n",
      "epoch: 5\n",
      "['Accuracy : 0.6509400010108948', 'loss : 0.9830000996589661']\n",
      "epoch: 6\n",
      "['Accuracy : 0.6686599850654602', 'loss : 0.9371224045753479']\n",
      "epoch: 7\n",
      "['Accuracy : 0.6844800114631653', 'loss : 0.897203803062439']\n",
      "epoch: 8\n",
      "['Accuracy : 0.6960600018501282', 'loss : 0.8650387525558472']\n",
      "epoch: 9\n",
      "['Accuracy : 0.7092800140380859', 'loss : 0.832627534866333']\n",
      "['Accuracy : 0.6984000205993652', 'loss : 0.8532191514968872']\n"
     ]
    }
   ],
   "source": [
    "\"\"\"def try_model(model, ds):\n",
    "  for x, t in ds.take(5):\n",
    "    y = model(x)\n",
    "    print(tf.argmax(y, axis=1), tf.argmax(t, axis=1))\n",
    "\n",
    "basic_model = BasicConv()\n",
    "try_model(basic_model, train_dataset)\"\"\"\n",
    "\n",
    "train_dataset = train_ds_global.apply(prepare_cifar10_data)\n",
    "test_dataset = test_ds_global.apply(prepare_cifar10_data)\n",
    "\n",
    "print(test_dataset)\n",
    "\n",
    "basic_model = BasicConv()\n",
    "\n",
    "# about 10% accuracy, makes sense, since output is always the same and there are 10 labels\n",
    "test_loop(basic_model,\n",
    "        test_ds=test_dataset,\n",
    "        val_summary_writer=val_summary_writer)\n",
    "\n",
    "training_loop(basic_model,\n",
    "              train_ds=train_dataset,\n",
    "              epochs=10, \n",
    "              train_summary_writer=train_summary_writer)\n",
    "\n",
    "test_loop(basic_model,\n",
    "        test_ds=test_dataset,\n",
    "        val_summary_writer=val_summary_writer)"
   ]
  },
  {
   "cell_type": "code",
   "execution_count": 14,
   "metadata": {},
   "outputs": [
    {
     "data": {
      "text/plain": "Launching TensorBoard..."
     },
     "metadata": {},
     "output_type": "display_data"
    },
    {
     "data": {
      "text/plain": "<IPython.core.display.HTML object>",
      "text/html": "\n      <iframe id=\"tensorboard-frame-d78891215a0622cc\" width=\"100%\" height=\"800\" frameborder=\"0\">\n      </iframe>\n      <script>\n        (function() {\n          const frame = document.getElementById(\"tensorboard-frame-d78891215a0622cc\");\n          const url = new URL(\"/\", window.location);\n          const port = 6006;\n          if (port) {\n            url.port = port;\n          }\n          frame.src = url;\n        })();\n      </script>\n    "
     },
     "metadata": {},
     "output_type": "display_data"
    }
   ],
   "source": [
    "%tensorboard --logdir logs"
   ]
  },
  {
   "cell_type": "code",
   "execution_count": 13,
   "metadata": {},
   "outputs": [],
   "source": []
  }
 ],
 "metadata": {
  "kernelspec": {
   "display_name": "Python 3.7.13 ('iannwtf')",
   "language": "python",
   "name": "python3"
  },
  "language_info": {
   "codemirror_mode": {
    "name": "ipython",
    "version": 3
   },
   "file_extension": ".py",
   "mimetype": "text/x-python",
   "name": "python",
   "nbconvert_exporter": "python",
   "pygments_lexer": "ipython3",
   "version": "3.7.13"
  },
  "orig_nbformat": 4,
  "vscode": {
   "interpreter": {
    "hash": "9b8c50c33561e7eff6eeea8f3e10c61ef76237379e0ac0cad7905faedae1c269"
   }
  }
 },
 "nbformat": 4,
 "nbformat_minor": 2
}
